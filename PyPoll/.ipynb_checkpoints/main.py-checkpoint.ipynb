{
 "cells": [
  {
   "cell_type": "code",
   "execution_count": 74,
   "metadata": {},
   "outputs": [
    {
     "name": "stdout",
     "output_type": "stream",
     "text": [
      "Election Results\n",
      "----------------------\n",
      "Total Votes: 3521001 \n",
      "----------------------\n",
      "Khan:63.0% (2218231)\n",
      "Correy:20.0% (704200)\n",
      "Li:14.0% (492940)\n",
      "O'Tooley:3.0% (105630)\n",
      "----------------------\n",
      "Winner:Khan\n",
      "----------------------\n"
     ]
    }
   ],
   "source": [
    "import os\n",
    "import csv\n",
    "\n",
    "# Create a variable to hold total votes count\n",
    "votes = 0 \n",
    "# Create a list that will store \n",
    "candidate_list = []\n",
    "# create a dictionary that will allow us to store the votes per candidate\n",
    "candidate_votes = {}\n",
    "# Create a path to read election data \n",
    "read_election_data = os.path.join(\"../PyPoll/Resources/election_data.csv\")\n",
    "# Assign the variable that will allow us to identify and highlight the winner\n",
    "winner_votes = []\n",
    "\n",
    "\n",
    "# Create a variable for our output file\n",
    "analysis = \"../PyPoll/analysis/election_results.csv\"\n",
    "\n",
    "with open(read_election_data,\"r\") as election_data:\n",
    "    data_reader = csv.reader(election_data, delimiter=\",\")\n",
    "    data_header = next(data_reader)\n",
    "    \n",
    "    # Create a Loop that will run to each row so we can identify candidates and assign votes\n",
    "    for row in data_reader: \n",
    "    # Create a variable that identifies the candidate name in each row\n",
    "        candidate_name = row[2]\n",
    "    # Check if the current candidate is already in our candidate list\n",
    "        if candidate_name not in candidate_list:\n",
    "    # If the current candidate is not in the list, add it to the list\n",
    "            candidate_list.append(candidate_name)\n",
    "    # Sets a place for the new candidate in the candidate votes list on a zero counter   \n",
    "            candidate_votes[candidate_name] = 0\n",
    "    # Out of the 'If' statement assign a vote to the current candidate\n",
    "        candidate_votes[candidate_name] = candidate_votes[candidate_name] + 1\n",
    "        votes = votes + 1\n",
    "    # Creates a dictionary of values to hold only the votes of each candidate\n",
    "    votes_count = candidate_votes.values()       \n",
    "    # Identifies the maximum of all the candidate votes \n",
    "    winner_votes = max(votes_count) \n",
    "    \n",
    "    # With this foor loop  we can run through the candidate votes dictionaty\n",
    "    for candidate_name in candidate_votes: \n",
    "    # And through this if statement we identify the name of the candidate with higher votes\n",
    "        if candidate_votes[candidate_name] == winner_votes:\n",
    "            winner = candidate_name\n",
    "\n",
    "    # Print the desired data\n",
    "print(f\"Election Results\")\n",
    "print(f\"----------------------\")\n",
    "print(f\"Total Votes: {votes} \")\n",
    "print(f\"----------------------\")\n",
    "    # Create a loop going through each name of the candidate list returning their votes and vote %\n",
    "for candidate_name in candidate_votes:\n",
    "    print( f\"{candidate_name}:{round((candidate_votes[candidate_name]/(votes))*100,3)}% ({candidate_votes[candidate_name]})\")\n",
    "print(f\"----------------------\")\n",
    "print(f\"Winner:{winner}\")\n",
    "print(f\"----------------------\")\n",
    "\n",
    "    # Print the text to the output file \"election_analysis\"\n",
    "with open(analysis, 'w') as election_analysis:\n",
    "    election_analysis.write(f\"Election Results\\n\")\n",
    "    election_analysis.write(f\"----------------------\\n\")\n",
    "    election_analysis.write(f\"Total Votes: {votes} \\n\")\n",
    "    election_analysis.write(f\"----------------------\\n\")\n",
    "    for candidate_name in candidate_votes:\n",
    "        election_analysis.write( f\"{candidate_name}:{round((candidate_votes[candidate_name]/(votes))*100,3)}% ({candidate_votes[candidate_name]})\\n\")\n",
    "    election_analysis.write(f\"----------------------\\n\")\n",
    "    election_analysis.write(f\"Winner:{winner}\\n\")\n",
    "    election_analysis.write(f\"----------------------\\n\")"
   ]
  },
  {
   "cell_type": "code",
   "execution_count": 68,
   "metadata": {},
   "outputs": [],
   "source": []
  },
  {
   "cell_type": "code",
   "execution_count": null,
   "metadata": {},
   "outputs": [],
   "source": []
  }
 ],
 "metadata": {
  "kernelspec": {
   "display_name": "Python 3",
   "language": "python",
   "name": "python3"
  },
  "language_info": {
   "codemirror_mode": {
    "name": "ipython",
    "version": 3
   },
   "file_extension": ".py",
   "mimetype": "text/x-python",
   "name": "python",
   "nbconvert_exporter": "python",
   "pygments_lexer": "ipython3",
   "version": "3.7.9"
  }
 },
 "nbformat": 4,
 "nbformat_minor": 4
}
