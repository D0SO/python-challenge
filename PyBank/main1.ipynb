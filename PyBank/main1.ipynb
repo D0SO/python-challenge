{
 "cells": [
  {
   "cell_type": "code",
   "execution_count": 7,
   "metadata": {},
   "outputs": [
    {
     "name": "stdout",
     "output_type": "stream",
     "text": [
      "<_csv.reader object at 0x0000020C5C2865F8>\n",
      "['Date', 'Profit/Losses']\n"
     ]
    },
    {
     "ename": "TypeError",
     "evalue": "'int' object is not iterable",
     "output_type": "error",
     "traceback": [
      "\u001b[1;31m---------------------------------------------------------------------------\u001b[0m",
      "\u001b[1;31mTypeError\u001b[0m                                 Traceback (most recent call last)",
      "\u001b[1;32m<ipython-input-7-147255fe0bc9>\u001b[0m in \u001b[0;36m<module>\u001b[1;34m\u001b[0m\n\u001b[0;32m     45\u001b[0m      \u001b[1;31m#Calculate average profit loss\u001b[0m\u001b[1;33m\u001b[0m\u001b[1;33m\u001b[0m\u001b[1;33m\u001b[0m\u001b[0m\n\u001b[0;32m     46\u001b[0m     \u001b[1;31m# sum_monthly_profit = sum(monthly_profit_change)\u001b[0m\u001b[1;33m\u001b[0m\u001b[1;33m\u001b[0m\u001b[1;33m\u001b[0m\u001b[0m\n\u001b[1;32m---> 47\u001b[1;33m     \u001b[0maverage_monthly_profit\u001b[0m \u001b[1;33m=\u001b[0m \u001b[0mround\u001b[0m\u001b[1;33m(\u001b[0m\u001b[0msum\u001b[0m\u001b[1;33m(\u001b[0m\u001b[0mmonthly_profit_change\u001b[0m\u001b[1;33m)\u001b[0m\u001b[1;33m/\u001b[0m\u001b[1;33m(\u001b[0m\u001b[0mmonth_count\u001b[0m \u001b[1;33m-\u001b[0m \u001b[1;36m1\u001b[0m\u001b[1;33m)\u001b[0m\u001b[1;33m,\u001b[0m\u001b[1;36m2\u001b[0m\u001b[1;33m)\u001b[0m\u001b[1;33m\u001b[0m\u001b[1;33m\u001b[0m\u001b[0m\n\u001b[0m\u001b[0;32m     48\u001b[0m \u001b[1;33m\u001b[0m\u001b[0m\n\u001b[0;32m     49\u001b[0m     \u001b[1;31m#find highest and lowest changes in profit and alligning those values with the respective month\u001b[0m\u001b[1;33m\u001b[0m\u001b[1;33m\u001b[0m\u001b[1;33m\u001b[0m\u001b[0m\n",
      "\u001b[1;31mTypeError\u001b[0m: 'int' object is not iterable"
     ]
    }
   ],
   "source": [
    "import os\n",
    "import csv\n",
    "\n",
    "\n",
    "# Assigning Variables\n",
    "\n",
    "month = []\n",
    "profit_change =[]\n",
    "\n",
    "month_count = 0\n",
    "net_profit = 0 \n",
    "last_month_profit = 0\n",
    "current_month_profit = 0\n",
    "monthly_profit_change = 0\n",
    "        \n",
    "budget_file = os.path.join(\"..\",\"C:analysis/\",\"C:/Users/user/python_demo/python-challenge/PyBank/Resources/\",\"c:/Users/user/python_demo/python-challenge/PyBank/Resources/budget_data.csv\")\n",
    "\n",
    "with open(budget_file) as budget_data:\n",
    "    budget_reader = csv.reader(budget_data, delimiter=\",\")\n",
    "    budget_header = next(budget_reader)\n",
    "\n",
    "    print(budget_reader)\n",
    "    print(budget_header)\n",
    "    \n",
    "    for row in budget_reader:\n",
    "        #everytime we read a line the script will add 1 month to our count\n",
    "        month_count = month_count + 1\n",
    "        \n",
    "        #collects the profit value of each row on the second column \n",
    "        current_month_profit = int(row[1])\n",
    "        #Adds rows profit to total net profit\n",
    "        last_month_profit = current_month_profit\n",
    "        net_profit = net_profit + current_month_profit\n",
    "        \n",
    "        if(month_count != 1):\n",
    "            monthly_profit_change = current_month_profit - last_month_profit\n",
    "            \n",
    "            #Add each month to our months list \n",
    "            month.append(row[0])\n",
    "            \n",
    "         #   monthly_profit_changes.append(str(monthly_profit_change))\n",
    "            \n",
    "            last_month_profit = current_month_profit\n",
    "            \n",
    "     #Calculate average profit loss\n",
    "    # sum_monthly_profit = sum(monthly_profit_change)\n",
    "    average_monthly_profit = round(sum(monthly_profit_change)/(month_count - 1),2)\n",
    "    \n",
    "    #find highest and lowest changes in profit and alligning those values with the respective month\n",
    "    highest_change = max(monthly_profit_change)\n",
    "    lowest_change = min(monthly_profit_change)\n",
    "    \n",
    "    # locate the index value of highest and lowest values\n",
    "    highest_month_index = monthly_profit_change.index(highest_change)\n",
    "    lowest_month_index = monthly_profit_change.index(lowest_change)\n",
    "    \n",
    "    # identifying the values of highest and lowest month\n",
    "    best_month = month[highest_month_index]\n",
    "    worst_month = month[lowest_month_index]\n",
    "      "
   ]
  },
  {
   "cell_type": "code",
   "execution_count": null,
   "metadata": {},
   "outputs": [],
   "source": []
  }
 ],
 "metadata": {
  "kernelspec": {
   "display_name": "Python 3",
   "language": "python",
   "name": "python3"
  },
  "language_info": {
   "codemirror_mode": {
    "name": "ipython",
    "version": 3
   },
   "file_extension": ".py",
   "mimetype": "text/x-python",
   "name": "python",
   "nbconvert_exporter": "python",
   "pygments_lexer": "ipython3",
   "version": "3.7.9"
  }
 },
 "nbformat": 4,
 "nbformat_minor": 4
}
