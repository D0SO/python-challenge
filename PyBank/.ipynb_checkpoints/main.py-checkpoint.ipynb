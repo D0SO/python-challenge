{
 "cells": [
  {
   "cell_type": "code",
   "execution_count": 11,
   "metadata": {},
   "outputs": [
    {
     "name": "stdout",
     "output_type": "stream",
     "text": [
      "Financial Analysis\n",
      "-----------------------\n",
      "Total Months: 86\n",
      "Total: $38382578.0\n",
      "Average Change: $7803.48\n",
      "Greatest increase in profits: Feb-2012 $ 1926159.0\n",
      "Greatest decrease in profits: Sep-2013 $ -2196167.0\n"
     ]
    }
   ],
   "source": [
    "import os\n",
    "import csv\n",
    "\n",
    "# List to store the month and year \n",
    "month = []\n",
    "# List to store a count to the number of months\n",
    "month_count = []\n",
    "# List to store the profit/loss changes calculated in each loop\n",
    "profit_change_sum = []\n",
    "# Retrieve the value of each months profit/loss from the csv file\n",
    "monthly_profit = 0\n",
    "# Create a variable to store the profit value of the previous loop and in the future calculate profit/loss changes\n",
    "last_profit = 0\n",
    "# Create a variable to register the add up of monthly profits\n",
    "total_profit = 0\n",
    "\n",
    "budget_file = os.path.join(\"..\",\"C:analysis/\",\"C:/Users/user/python_demo/python-challenge/PyBank/Resources/\",\"c:/Users/user/python_demo/python-challenge/PyBank/Resources/budget_data.csv\")\n",
    "analysis = \"C:analysis/financial_analysis.csv\"\n",
    "\n",
    "# Open csv file and skip header\n",
    "with open(budget_file,\"r\") as budget_data:\n",
    "    budget_reader = csv.reader(budget_data, delimiter=\",\")\n",
    "    budget_header = next(budget_reader)\n",
    "    \n",
    "    \n",
    "    for row in budget_reader:\n",
    "        # adding up to month list we move through the loop\n",
    "        month.append(row[0])\n",
    "        # Store variable with total month value\n",
    "        month_count = len(month)\n",
    "        # Assign variable to retrieve profit/loss value in each row\n",
    "        monthly_profit = float(row[1])  \n",
    "        # Assign a variable to store total profits\n",
    "        total_profit = monthly_profit + total_profit\n",
    "        \n",
    "        # establish the variable to store profit changes\n",
    "        profit_change = float(monthly_profit - last_profit)\n",
    "        # Create list to store profit changes\n",
    "        profit_change_sum.append(profit_change)\n",
    "        # Reset last profit to the current monthly profit at the end of the loop\n",
    "        last_profit = monthly_profit\n",
    "        \n",
    "    # find max and min values in the list that stores profit changes\n",
    "    highest_profit_change = max(profit_change_sum)\n",
    "    lowest_profit_change = min(profit_change_sum)      \n",
    "    # find the correspondent month to both max and min values of profit monthly changes\n",
    "    highest_profit_month = month[profit_change_sum.index(highest_profit_change)]\n",
    "    lowest_profit_month = month[profit_change_sum.index(lowest_profit_change)]\n",
    "    # Calculate the average profit change by using the sum and lenth of the list of changes\n",
    "    average_profit_change = round(sum(profit_change_sum)/ len(profit_change_sum),2)\n",
    "\n",
    " # print data retrieved\n",
    "print(\"Financial Analysis\")\n",
    "print(\"-----------------------\")\n",
    "print(f\"Total Months: {month_count}\")\n",
    "print(f\"Total: ${total_profit}\")\n",
    "print(f\"Average Change: ${average_profit_change}\")\n",
    "print(f\"Greatest increase in profits: {highest_profit_month} $ {highest_profit_change}\")\n",
    "print(f\"Greatest decrease in profits: {lowest_profit_month} $ {lowest_profit_change}\")\n",
    "\n",
    " # Print Text in the output file \"financial_analysis\"\n",
    "with open(analysis, \"w\") as financial_analysis:\n",
    "    financial_analysis.write(\"Financial Analysis\\n\")\n",
    "    financial_analysis.write(\"-----------------------\\n\")\n",
    "    financial_analysis.write(f\"Total Months: {month_count}\\n\")\n",
    "    financial_analysis.write(f\"Total: ${total_profit}\\n\")\n",
    "    financial_analysis.write(f\"Average Change: ${average_profit_change}\\n\")\n",
    "    financial_analysis.write(f\"Greatest increase in profits: {highest_profit_month} $ {highest_profit_change}\\n\")\n",
    "    financial_analysis.write(f\"Greatest decrease in profits: {lowest_profit_month} $ {lowest_profit_change}\\n\")"
   ]
  },
  {
   "cell_type": "code",
   "execution_count": null,
   "metadata": {},
   "outputs": [],
   "source": []
  }
 ],
 "metadata": {
  "kernelspec": {
   "display_name": "Python 3",
   "language": "python",
   "name": "python3"
  },
  "language_info": {
   "codemirror_mode": {
    "name": "ipython",
    "version": 3
   },
   "file_extension": ".py",
   "mimetype": "text/x-python",
   "name": "python",
   "nbconvert_exporter": "python",
   "pygments_lexer": "ipython3",
   "version": "3.7.9"
  }
 },
 "nbformat": 4,
 "nbformat_minor": 4
}
